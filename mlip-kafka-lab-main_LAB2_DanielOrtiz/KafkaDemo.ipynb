{
 "cells": [
  {
   "cell_type": "markdown",
   "id": "59b2d799",
   "metadata": {},
   "source": [
    "# Kafka Demo\n",
    "\n",
    "### Connect to Kafka Broker Server \n",
    "```\n",
    "ssh -L <local_port>:localhost:<remote_port> <user>@<remote_server> -NTf\n",
    "```\n",
    "Find how to connect to Kafka server on Canvas lab 2 assignment page.\n",
    "\n",
    "### To kill connection\n",
    "```\n",
    "lsof -ti:<local_port> | xargs kill -9\n",
    "```\n",
    "\n",
    "### Setup\n",
    "```\n",
    "python -m pip install kafka-python\n",
    "```"
   ]
  },
  {
   "cell_type": "code",
   "execution_count": 1,
   "id": "560fd2bb",
   "metadata": {
    "ExecuteTime": {
     "end_time": "2024-09-03T20:53:48.295316Z",
     "start_time": "2024-09-03T20:53:48.290645Z"
    }
   },
   "outputs": [],
   "source": [
    "import os\n",
    "from datetime import datetime\n",
    "from json import dumps, loads\n",
    "from time import sleep\n",
    "from random import randint\n",
    "from kafka import KafkaConsumer, KafkaProducer\n",
    "\n",
    "# Update this for your own recitation section :)\n",
    "topic = 'recitation-x' # x could be b, c, d, e, f"
   ]
  },
  {
   "cell_type": "markdown",
   "id": "0eb9dd6f",
   "metadata": {},
   "source": [
    "### Producer Mode -> Writes Data to Broker"
   ]
  },
  {
   "cell_type": "code",
   "execution_count": 3,
   "id": "aa4679a1",
   "metadata": {},
   "outputs": [
    {
     "name": "stdout",
     "output_type": "stream",
     "text": [
      "Writing to Kafka Broker\n",
      "Writing: 2025-03-14 22:53:22,Philadelphia,32ºC\n",
      "Writing: 2025-03-14 22:53:25,San Jose,21ºC\n",
      "Writing: 2025-03-14 22:53:26,Philadelphia,28ºC\n",
      "Writing: 2025-03-14 22:53:27,San Antonio,26ºC\n",
      "Writing: 2025-03-14 22:53:28,Houston,30ºC\n",
      "Writing: 2025-03-14 22:53:29,Chicago,22ºC\n",
      "Writing: 2025-03-14 22:53:30,Phoenix,19ºC\n",
      "Writing: 2025-03-14 22:53:31,San Antonio,21ºC\n",
      "Writing: 2025-03-14 22:53:32,San Jose,22ºC\n",
      "Writing: 2025-03-14 22:53:33,San Diego,18ºC\n"
     ]
    }
   ],
   "source": [
    "# Create a producer to write data to kafka\n",
    "# Ref: https://kafka-python.readthedocs.io/en/master/apidoc/KafkaProducer.html\n",
    "\n",
    "# [TODO]: Replace '...' with the address of your Kafka bootstrap server\n",
    "producer = KafkaProducer(bootstrap_servers=['localhost:9092'],\n",
    "                        value_serializer=lambda x: dumps(x).encode('utf-8'))\n",
    "\n",
    "# [TODO]: Add cities of your choice\n",
    "cities = ['New York', 'Los Angeles', 'Chicago', 'Houston', 'Phoenix', 'Philadelphia', 'San Antonio', 'San Diego', 'Dallas', 'San Jose']\n",
    "\n",
    "# Write data via the producer\n",
    "print(\"Writing to Kafka Broker\")\n",
    "for i in range(10):\n",
    "    data = f'{datetime.now().strftime(\"%Y-%m-%d %H:%M:%S\")},{cities[randint(0,len(cities)-1)]},{randint(18, 32)}ºC'\n",
    "    print(f\"Writing: {data}\")\n",
    "    producer.send(topic=topic, value=data)\n",
    "    sleep(1)"
   ]
  },
  {
   "cell_type": "markdown",
   "id": "a45bbace",
   "metadata": {},
   "source": [
    "### Consumer Mode -> Reads Data from Broker"
   ]
  },
  {
   "cell_type": "code",
   "execution_count": null,
   "id": "f249249a",
   "metadata": {},
   "outputs": [],
   "source": [
    "from kafka import KafkaConsumer\n",
    "from json import loads\n",
    "import os\n",
    "\n",
    "# Create a consumer to read data from kafka\n",
    "# Ref: https://kafka-python.readthedocs.io/en/master/apidoc/KafkaConsumer.html\n",
    "\n",
    "# Complete the missing ... parameters/arguments using the Kafka documentation\n",
    "consumer = KafkaConsumer(\n",
    "    'recitation-x',\n",
    "    bootstrap_servers=['localhost:9092'],\n",
    "    auto_offset_reset='earliest',  # Experiment with different values\n",
    "    enable_auto_commit=True,\n",
    "    auto_commit_interval_ms=1000,\n",
    "    value_deserializer=lambda x: loads(x.decode('utf-8'))\n",
    ")\n",
    "\n",
    "print('Reading Kafka Broker')\n",
    "for message in consumer:\n",
    "    message = message.value\n",
    "    # Default message.value type is bytes!\n",
    "    print(message)\n",
    "    os.system(f\"echo {message} >> kafka_log.csv\")"
   ]
  },
  {
   "cell_type": "code",
   "execution_count": 8,
   "id": "a5e2f59f",
   "metadata": {},
   "outputs": [
    {
     "name": "stdout",
     "output_type": "stream",
     "text": [
      "Reading Kafka Broker\n"
     ]
    },
    {
     "ename": "AttributeError",
     "evalue": "'str' object has no attribute 'decode'",
     "output_type": "error",
     "traceback": [
      "\u001b[31m---------------------------------------------------------------------------\u001b[39m",
      "\u001b[31mAttributeError\u001b[39m                            Traceback (most recent call last)",
      "\u001b[36mCell\u001b[39m\u001b[36m \u001b[39m\u001b[32mIn[8]\u001b[39m\u001b[32m, line 18\u001b[39m\n\u001b[32m     16\u001b[39m \u001b[38;5;28mprint\u001b[39m(\u001b[33m'\u001b[39m\u001b[33mReading Kafka Broker\u001b[39m\u001b[33m'\u001b[39m)\n\u001b[32m     17\u001b[39m \u001b[38;5;28;01mfor\u001b[39;00m message \u001b[38;5;129;01min\u001b[39;00m consumer:\n\u001b[32m---> \u001b[39m\u001b[32m18\u001b[39m     message = \u001b[43mmessage\u001b[49m\u001b[43m.\u001b[49m\u001b[43mvalue\u001b[49m\u001b[43m.\u001b[49m\u001b[43mdecode\u001b[49m()\n\u001b[32m     19\u001b[39m     \u001b[38;5;66;03m# Default message.value type is bytes!\u001b[39;00m\n\u001b[32m     20\u001b[39m     \u001b[38;5;28mprint\u001b[39m(loads(message))\n",
      "\u001b[31mAttributeError\u001b[39m: 'str' object has no attribute 'decode'"
     ]
    }
   ],
   "source": [
    "# Create a consumer to read data from kafka\n",
    "# Ref: https://kafka-python.readthedocs.io/en/master/apidoc/KafkaConsumer.html\n",
    "\n",
    "# [TODO]: Complete the missing ... parameters/arguments using the Kafka documentation\n",
    "consumer = KafkaConsumer(\n",
    "    'recitation-x',\n",
    "    bootstrap_servers=['localhost:9092'],\n",
    "    auto_offset_reset='earliest', #Experiment with different values\n",
    "    # Commit that an offset has been read\n",
    "    enable_auto_commit=True,\n",
    "    # How often to tell Kafka, an offset has been read\n",
    "    auto_commit_interval_ms=1000,\n",
    "    value_deserializer=lambda x: loads(x.decode('utf-8'))\n",
    ")\n",
    "\n",
    "print('Reading Kafka Broker')\n",
    "for message in consumer:\n",
    "    message = message.value.decode()\n",
    "    # Default message.value type is bytes!\n",
    "    print(loads(message))\n",
    "    os.system(f\"echo {message} >> kafka_log.csv\")"
   ]
  },
  {
   "cell_type": "markdown",
   "id": "38927152",
   "metadata": {},
   "source": [
    "# Use kcat!\n",
    "It's a CLI (Command Line Interface). Previously known as kafkacat\n",
    "\n",
    "\n",
    "Ref: https://docs.confluent.io/platform/current/app-development/kafkacat-usage.html"
   ]
  },
  {
   "cell_type": "code",
   "execution_count": null,
   "id": "e19b63da",
   "metadata": {},
   "outputs": [],
   "source": [
    "#kcat command: connect to local Kafka broker, specify a topic, and consume messages from the earliest offset"
   ]
  }
 ],
 "metadata": {
  "kernelspec": {
   "display_name": "Python 3",
   "language": "python",
   "name": "python3"
  },
  "language_info": {
   "codemirror_mode": {
    "name": "ipython",
    "version": 3
   },
   "file_extension": ".py",
   "mimetype": "text/x-python",
   "name": "python",
   "nbconvert_exporter": "python",
   "pygments_lexer": "ipython3",
   "version": "3.12.9"
  }
 },
 "nbformat": 4,
 "nbformat_minor": 5
}
